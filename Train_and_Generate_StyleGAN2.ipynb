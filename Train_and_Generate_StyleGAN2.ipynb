{
  "nbformat": 4,
  "nbformat_minor": 0,
  "metadata": {
    "colab": {
      "name": "Train and Generate StyleGAN2.ipynb",
      "private_outputs": true,
      "provenance": [],
      "collapsed_sections": [],
      "include_colab_link": true
    },
    "kernelspec": {
      "display_name": "Python 3",
      "name": "python3"
    },
    "accelerator": "GPU"
  },
  "cells": [
    {
      "cell_type": "markdown",
      "metadata": {
        "id": "view-in-github",
        "colab_type": "text"
      },
      "source": [
        "<a href=\"https://colab.research.google.com/github/jkweh/ganart/blob/master/Train_and_Generate_StyleGAN2.ipynb\" target=\"_parent\"><img src=\"https://colab.research.google.com/assets/colab-badge.svg\" alt=\"Open In Colab\"/></a>"
      ]
    },
    {
      "cell_type": "markdown",
      "metadata": {
        "id": "cPI5E5y0pujD"
      },
      "source": [
        "# Custom Training StyleGan2-ADA\n",
        "\n",
        "---\n",
        "\n"
      ]
    },
    {
      "cell_type": "markdown",
      "metadata": {
        "id": "SI_i1MwgpzOD"
      },
      "source": [
        "StyleGAN2-ADA only work with Tensorflow 1. Run the next cell before anything else to make sure we’re using TF1 and not TF2."
      ]
    },
    {
      "cell_type": "code",
      "metadata": {
        "id": "iKYAU7Wub3WW"
      },
      "source": [
        "%tensorflow_version 1.x\n",
        "!nvidia-smi"
      ],
      "execution_count": null,
      "outputs": []
    },
    {
      "cell_type": "markdown",
      "metadata": {
        "id": "5YcUMPQp6ipP"
      },
      "source": [
        "# 1. Clone repos to Google Drive\n",
        "\n",
        "---\n",
        "\n",
        "First, mount your Drive to the Colab notebook: "
      ]
    },
    {
      "cell_type": "code",
      "metadata": {
        "id": "pxxYlEKI9Gis"
      },
      "source": [
        "from google.colab import drive\n",
        "drive.mount('/content/drive')"
      ],
      "execution_count": null,
      "outputs": []
    },
    {
      "cell_type": "code",
      "metadata": {
        "id": "8HX77jscX2zV"
      },
      "source": [
        "import os\n",
        "\n",
        "%cd /content/drive/MyDrive/\n",
        "\n",
        "if not os.path.isdir(\"/content/drive/MyDrive/git\"):\n",
        "  !mkdir /content/drive/MyDrive/git\n",
        "%cd git\n",
        "\n",
        "stylegan2_gitdir=\"/content/drive/MyDrive/git/stylegan2-ada\"\n",
        "if not os.path.isdir(\"/content/drive/MyDrive/git/stylegan2-ada\"):\n",
        "  !git clone https://github.com/dvschultz/stylegan2-ada\n",
        "else:\n",
        "  %cd \"{stylegan2_gitdir}\"\n",
        "  !git pull origin master\n",
        "\n",
        "ganart_gitdir=\"/content/drive/MyDrive/git/ganart\"\n",
        "if not os.path.isdir({ganart_gitdir}):\n",
        "  !git clone https://github.com/jkweh/ganart\n",
        "else:\n",
        "  %cd \"{ganart_gitdir}\"\n",
        "  !git pull origin master\n",
        "\n"
      ],
      "execution_count": null,
      "outputs": []
    },
    {
      "cell_type": "markdown",
      "metadata": {
        "id": "tTTrblLWOhvQ"
      },
      "source": [
        "And then finally create the recommended directory tree"
      ]
    },
    {
      "cell_type": "code",
      "metadata": {
        "id": "XjGd22wpOmD0"
      },
      "source": [
        "base_path = \"/content/drive/MyDrive\"\n",
        "project_name=\"\"\n",
        "\n",
        "dataset_dir=f\"{base_path}/datasets/{project_name}\"\n",
        "!mkdir -p {dataset_dir}\n",
        "\n",
        "training_dir=f\"{base_path}/gan/training/{project_name}\"\n",
        "!mkdir -p {training_dir}\n",
        "\n",
        "outdir=f\"{base_path}/gan/data/outdir/{project_name}\"\n",
        "!mkdir -p {outdir}"
      ],
      "execution_count": null,
      "outputs": []
    },
    {
      "cell_type": "markdown",
      "metadata": {
        "id": "RgaAn9D8-Th8"
      },
      "source": [
        "# 2. Scrape and pre-process\n",
        "---\n"
      ]
    },
    {
      "cell_type": "markdown",
      "metadata": {
        "id": "OgHDh1JbvPJI"
      },
      "source": [
        "## Run the scraper"
      ]
    },
    {
      "cell_type": "code",
      "metadata": {
        "id": "6sXVZ7AEvV1Q"
      },
      "source": [
        "import os\n",
        "if os.path.isdir({ganart_gitdir}):\n",
        "  %cd {ganart_gitdir}\n",
        "  !python3 ./scrape-wikiart-by-genre.py --outdir {outdir}\n",
        "  dl_dir=f\"{outdir}/dl\""
      ],
      "execution_count": null,
      "outputs": []
    },
    {
      "cell_type": "markdown",
      "metadata": {
        "id": "HeS9tDvt61VG"
      },
      "source": [
        "## Convert dataset to .tfrecords"
      ]
    },
    {
      "cell_type": "markdown",
      "metadata": {
        "id": "_Q58MJbckLUc"
      },
      "source": [
        "**Note: You only need to do this once per dataset. If you have already run this and are returning to continue training, skip these cells.**\n",
        "\n",
        "Next we need to convert our image dataset to a format that StyleGAN2-ADA can read from. There are two options here. You can upload your dataset directly to Colab (as a zipped file), or you can upload it to Drive directly and read it from there."
      ]
    },
    {
      "cell_type": "code",
      "metadata": {
        "id": "8JUP51nJdEjz"
      },
      "source": [
        "!tar -zxvf /content/drive/MyDrive/art.tar.gz"
      ],
      "execution_count": null,
      "outputs": []
    },
    {
      "cell_type": "markdown",
      "metadata": {
        "id": "D0QH0nzjlbEE"
      },
      "source": [
        "Now that your image dataset is uploaded, we need to convert it to the `tfrecords` format.\n",
        "\n",
        "Depending on the resolution of your images and how many you have, this can take a while."
      ]
    },
    {
      "cell_type": "code",
      "metadata": {
        "id": "T-BZHhBe7AvO"
      },
      "source": [
        "%cd stylegan2_gitdir\n",
        "\n",
        "tfrecords_path = f\"{training_dir}/tfrecords\"\n",
        "!python dataset_tool.py create_from_images {dataset_dir} {tfrecords_path}"
      ],
      "execution_count": null,
      "outputs": []
    },
    {
      "cell_type": "markdown",
      "metadata": {
        "id": "8DvTupHzP2s_"
      },
      "source": [
        "# 3. Train a custom model\n",
        "---\n",
        "We’re ready to start training!**bold text**"
      ]
    },
    {
      "cell_type": "code",
      "metadata": {
        "id": "jOftFoyiDU3s"
      },
      "source": [
        "%cd {stylegan2_gitdir}\n",
        "\n",
        "results_path = f\"{training_dir}/results\"\n",
        "\n",
        "# This name must EXACTLY match the dataset name you used when creating the .tfrecords file.\n",
        "snapshot_count = 2  # How often should the model generate samples and a .pkl file.\n",
        "mirrored = True  # should the images be mirrored left to right?\n",
        "mirroredY = True  # Should the images be mirrored top to bottom?\n",
        "metric_list = \"fid50k_full\"  # Metrics?\n",
        "\n",
        "resume_from = \"ffhq1024\"  # Running it for the first time? Set to ffhq(+resolution), e.g. `ffhq1024`.\n",
        "# resume_from = f\"{results_path}/network-snapshot-000008.pkl\"  # Resuming? Get the path to your latest .pkl file and use that.\n",
        "\n",
        "!python train.py --outdir {results_path} --snap={snapshot_count} --cfg=11gb-gpu --data={tfrecords_path} --mirror={mirrored} --mirrory={mirroredY} --metrics={metric_list} --resume={resume_from}"
      ],
      "execution_count": null,
      "outputs": []
    },
    {
      "cell_type": "markdown",
      "metadata": {
        "id": "lohotw1FqC54"
      },
      "source": [
        "### While it’s training...\n",
        "\n",
        "Don’t close this tab! Colab needs to be open and running in order to continue training. Every ~15min or so a new line should get added to your output, indicated its still training. Depending on you `snapshot_count` setting you should see the results folder in your Google drive folder fill with both samples (`fakesXXXXXx.jpg`) and model weights (`network-snapshot-XXXXXX.pkl`). The samples are worth looking at while it trains but don’t get too worried about each individual sample.\n",
        "\n",
        "If you chose a metric, you will also see scores for each snapshot. Don’t obsess over these! they are a guide, it can go up or down slightly for each snapshot. What you want to see is a gradual lowering of the score over time."
      ]
    },
    {
      "cell_type": "markdown",
      "metadata": {
        "id": "JM8b_Whu1JvM"
      },
      "source": [
        "# 4. Generate!\n",
        "\n",
        "---\n",
        "\n"
      ]
    },
    {
      "cell_type": "code",
      "metadata": {
        "id": "ES8tng721Id8"
      },
      "source": [
        "!pip install -U opensimplex\n",
        "%tensorflow_version 1.x"
      ],
      "execution_count": null,
      "outputs": []
    },
    {
      "cell_type": "code",
      "metadata": {
        "id": "74iAtJPy3UwY"
      },
      "source": [
        "%cd {stylegan2_gitdir}\n",
        "network_file = f\"{results_path}/network-snapshot-000008.pkl\"\n",
        "!python ./generate.py generate-images --outdir=f\"{outdir}/images\" --seeds=\"1000-1050\" --network={network_file}"
      ],
      "execution_count": null,
      "outputs": []
    },
    {
      "cell_type": "markdown",
      "metadata": {
        "id": "hqyi4hPX3d6U"
      },
      "source": [
        "# 5. Post-Process\n",
        "\n",
        "---\n",
        "\n"
      ]
    },
    {
      "cell_type": "code",
      "metadata": {
        "id": "WvHofgjq-0u0"
      },
      "source": [
        "!pip install -U ISR\n",
        "# There's some weird stuff going on that causes an error; this usually fixes it.\n",
        "!pip install 'h5py==2.10.0' --force-reinstall"
      ],
      "execution_count": null,
      "outputs": []
    },
    {
      "cell_type": "code",
      "metadata": {
        "id": "jSjMEmRF3RwM"
      },
      "source": [
        "%cd /content/drive/MyDrive/git/ganart\n",
        "!git pull\n",
        "!python ./post_process_images.py --indir f\"{outdir}/images\""
      ],
      "execution_count": null,
      "outputs": []
    }
  ]
}